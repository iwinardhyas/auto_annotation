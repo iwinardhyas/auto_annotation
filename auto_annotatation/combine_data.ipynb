{
 "cells": [
  {
   "cell_type": "markdown",
   "metadata": {},
   "source": [
    "# move file and combine"
   ]
  },
  {
   "cell_type": "code",
   "execution_count": 25,
   "metadata": {},
   "outputs": [],
   "source": [
    "import os\n",
    "import shutil\n",
    "import pandas as pd"
   ]
  },
  {
   "cell_type": "code",
   "execution_count": 62,
   "metadata": {},
   "outputs": [
    {
     "name": "stdout",
     "output_type": "stream",
     "text": [
      "1983934978.jpg\n",
      "images.jpeg\n",
      "download (2).jpeg\n",
      "download.jpeg\n",
      "download (1).jpeg\n"
     ]
    }
   ],
   "source": [
    "try:\n",
    "    if not os.path.exists(\"combine_file\"):\n",
    "        os.makedirs(\"combine_file\")\n",
    "        print(\"directory is ready!\")\n",
    "except OSError:\n",
    "    print ('Error: Creating directory. ')\n",
    "    \n",
    "\n",
    "for data_image in os.listdir('data'):    \n",
    "    image = os.path.splitext(data_image)[0]\n",
    "    for data_txt in os.listdir('output_txt'):\n",
    "        txt = os.path.splitext(data_txt)[0]\n",
    "        if image == txt:\n",
    "            shutil.copy('data/'+data_image,'combine_file/')\n",
    "            shutil.copy('output_txt/'+data_txt,'combine_file/')\n",
    "            found = \"found\"\n",
    "            \n",
    "            data = pd.DataFrame({'image': data_image, 'txt': data_txt, 'found': found},index=[0])\n",
    "            print(data_image)\n",
    "\n",
    "    data.to_csv('data_combine.csv',index=False)   "
   ]
  },
  {
   "cell_type": "code",
   "execution_count": 61,
   "metadata": {},
   "outputs": [
    {
     "data": {
      "text/html": [
       "<div>\n",
       "<style scoped>\n",
       "    .dataframe tbody tr th:only-of-type {\n",
       "        vertical-align: middle;\n",
       "    }\n",
       "\n",
       "    .dataframe tbody tr th {\n",
       "        vertical-align: top;\n",
       "    }\n",
       "\n",
       "    .dataframe thead th {\n",
       "        text-align: right;\n",
       "    }\n",
       "</style>\n",
       "<table border=\"1\" class=\"dataframe\">\n",
       "  <thead>\n",
       "    <tr style=\"text-align: right;\">\n",
       "      <th></th>\n",
       "      <th>image</th>\n",
       "      <th>txt</th>\n",
       "      <th>found</th>\n",
       "    </tr>\n",
       "  </thead>\n",
       "  <tbody>\n",
       "    <tr>\n",
       "      <th>0</th>\n",
       "      <td>download (1).jpeg</td>\n",
       "      <td>download (1).txt</td>\n",
       "      <td>found</td>\n",
       "    </tr>\n",
       "  </tbody>\n",
       "</table>\n",
       "</div>"
      ],
      "text/plain": [
       "               image               txt  found\n",
       "0  download (1).jpeg  download (1).txt  found"
      ]
     },
     "execution_count": 61,
     "metadata": {},
     "output_type": "execute_result"
    }
   ],
   "source": [
    "data_ = pd.read_csv('data_combine.csv')\n",
    "data_"
   ]
  }
 ],
 "metadata": {
  "kernelspec": {
   "display_name": "Python 3",
   "language": "python",
   "name": "python3"
  },
  "language_info": {
   "codemirror_mode": {
    "name": "ipython",
    "version": 3
   },
   "file_extension": ".py",
   "mimetype": "text/x-python",
   "name": "python",
   "nbconvert_exporter": "python",
   "pygments_lexer": "ipython3",
   "version": "3.8.2"
  }
 },
 "nbformat": 4,
 "nbformat_minor": 4
}
